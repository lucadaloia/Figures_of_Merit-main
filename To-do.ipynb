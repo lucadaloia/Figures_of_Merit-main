{
 "cells": [
  {
   "cell_type": "markdown",
   "id": "27d539cb",
   "metadata": {},
   "source": [
    "# Reminders:"
   ]
  },
  {
   "cell_type": "markdown",
   "id": "07f3a65d",
   "metadata": {},
   "source": [
    "* Ask him about website template\n",
    "    - homepage, table, visual database\n",
    "    - "
   ]
  },
  {
   "cell_type": "markdown",
   "id": "fab1bda2",
   "metadata": {},
   "source": [
    "- File path variable - change to GUI to allow user to select multiple from file explorer"
   ]
  },
  {
   "cell_type": "markdown",
   "id": "cb47a8fa",
   "metadata": {},
   "source": [
    "- for now, the table takes urls as the DOI, should we change that?"
   ]
  },
  {
   "cell_type": "markdown",
   "id": "6b06bda4",
   "metadata": {},
   "source": [
    "Still have to add device parameters and reference file into automation"
   ]
  },
  {
   "cell_type": "markdown",
   "id": "33da7b1a",
   "metadata": {},
   "source": [
    "### Method for data extraction (metadata):\n",
    "- Right now, my code pulls in text that comes after \"DOI:\" (may encounter errors) and then uses CrossRef API to fetch metadata\n",
    "- From what I've seen, none of the packages would be able to pull both DOI and metadata with only the file path.\n",
    "    - Zotero could be an alternative but it requires a desktop app to extract the DOI and data from the PDF -> possible option since it woud only require the app to input new data (one user)\n",
    "- My code is mostly automated but may still encounter errors (if the fundtion can't find the DOI)"
   ]
  },
  {
   "cell_type": "markdown",
   "id": "2e35c9b1",
   "metadata": {},
   "source": [
    "There are libraries and programs that analyze the PDF as images and can identify some of the graphs on the papers\n",
    "\n",
    "\n",
    "Can set up different tables/database \"for each material\" -> have the different parameters -> get FOMs from the parameters -> plot the FOMs\n",
    "\n",
    "\n"
   ]
  },
  {
   "cell_type": "markdown",
   "id": "79a3f597",
   "metadata": {},
   "source": [
    "# Objective for nex week "
   ]
  },
  {
   "cell_type": "markdown",
   "id": "195b0a23",
   "metadata": {},
   "source": [
    "Graph set up for the different materials and FOMs \n",
    "- be able to click, unclick certain points/lines \n",
    "- Make it look good - different view/page\n",
    "- "
   ]
  },
  {
   "cell_type": "markdown",
   "id": "460e4d9d",
   "metadata": {},
   "source": [
    "Use presentation for ref papers to test digitizer (data extraction)"
   ]
  },
  {
   "cell_type": "markdown",
   "id": "7ad3c713",
   "metadata": {},
   "source": []
  }
 ],
 "metadata": {
  "kernelspec": {
   "display_name": "Python 3",
   "language": "python",
   "name": "python3"
  },
  "language_info": {
   "codemirror_mode": {
    "name": "ipython",
    "version": 3
   },
   "file_extension": ".py",
   "mimetype": "text/x-python",
   "name": "python",
   "nbconvert_exporter": "python",
   "pygments_lexer": "ipython3",
   "version": "3.13.3"
  }
 },
 "nbformat": 4,
 "nbformat_minor": 5
}
