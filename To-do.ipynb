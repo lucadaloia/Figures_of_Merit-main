{
 "cells": [
  {
   "cell_type": "markdown",
   "id": "27d539cb",
   "metadata": {},
   "source": [
    "# Reminders:"
   ]
  },
  {
   "cell_type": "markdown",
   "id": "07f3a65d",
   "metadata": {},
   "source": [
    "* Ask him about website template\n",
    "    - homepage, table, visual database\n",
    "    - "
   ]
  },
  {
   "cell_type": "markdown",
   "id": "fab1bda2",
   "metadata": {},
   "source": [
    "- File path variable - change to GUI to allow user to select multiple from file explorer"
   ]
  },
  {
   "cell_type": "markdown",
   "id": "cb47a8fa",
   "metadata": {},
   "source": [
    "- for now, the table takes urls as the DOI, should we change that?"
   ]
  },
  {
   "cell_type": "markdown",
   "id": "33da7b1a",
   "metadata": {},
   "source": []
  }
 ],
 "metadata": {
  "kernelspec": {
   "display_name": "Python 3",
   "language": "python",
   "name": "python3"
  },
  "language_info": {
   "codemirror_mode": {
    "name": "ipython",
    "version": 3
   },
   "file_extension": ".py",
   "mimetype": "text/x-python",
   "name": "python",
   "nbconvert_exporter": "python",
   "pygments_lexer": "ipython3",
   "version": "3.13.3"
  }
 },
 "nbformat": 4,
 "nbformat_minor": 5
}
