{
 "cells": [
  {
   "cell_type": "markdown",
   "id": "27d539cb",
   "metadata": {},
   "source": [
    "# Reminders:"
   ]
  },
  {
   "cell_type": "markdown",
   "id": "07f3a65d",
   "metadata": {},
   "source": [
    "* Ask him about \n",
    "    - In the plot, the rated voltage is used as the breakdown voltage --> can that be used for the other plots if needed?\n",
    "    - "
   ]
  },
  {
   "cell_type": "markdown",
   "id": "6b06bda4",
   "metadata": {},
   "source": [
    "Still have to add device parameters and reference file into automation\n",
    "\n"
   ]
  },
  {
   "cell_type": "markdown",
   "id": "33da7b1a",
   "metadata": {},
   "source": [
    "### Method for data extraction (metadata):\n",
    "- Right now, my code pulls in text that comes after \"DOI:\" (may encounter errors) and then uses CrossRef API to fetch metadata\n",
    "    - There are papers that don't contain the DOI in the pdf --> maybe try to search using title...\n"
   ]
  },
  {
   "cell_type": "markdown",
   "id": "2e35c9b1",
   "metadata": {},
   "source": [
    "There are libraries and programs that analyze the PDF as images and can identify some of the graphs on the papers\n",
    "\n",
    "\n",
    "Can set up different tables/database \"for each material\" -> have the different parameters -> get FOMs from the parameters -> plot the FOMs\n",
    "\n",
    "\n"
   ]
  },
  {
   "cell_type": "markdown",
   "id": "79a3f597",
   "metadata": {},
   "source": [
    "# Objective for nex week "
   ]
  },
  {
   "cell_type": "markdown",
   "id": "195b0a23",
   "metadata": {},
   "source": [
    "Graph set up for the different materials and FOMs \n",
    "- be able to click, unclick certain points/lines \n",
    "- Make it look good - different view/page\n",
    "- "
   ]
  },
  {
   "cell_type": "markdown",
   "id": "460e4d9d",
   "metadata": {},
   "source": [
    "Use presentation for ref papers to test digitizer (data extraction)"
   ]
  },
  {
   "cell_type": "markdown",
   "id": "7ad3c713",
   "metadata": {},
   "source": [
    "### Web page styling:"
   ]
  },
  {
   "cell_type": "markdown",
   "id": "ffd0a1db",
   "metadata": {},
   "source": [
    "- Create different pages (+ add link to them in the home page)\n",
    "    - try to have a tab like page view --> highlight what page user is currently on or have title of page bellow the tab bar"
   ]
  },
  {
   "cell_type": "markdown",
   "id": "016b4b73",
   "metadata": {},
   "source": []
  }
 ],
 "metadata": {
  "kernelspec": {
   "display_name": "Python 3",
   "language": "python",
   "name": "python3"
  },
  "language_info": {
   "codemirror_mode": {
    "name": "ipython",
    "version": 3
   },
   "file_extension": ".py",
   "mimetype": "text/x-python",
   "name": "python",
   "nbconvert_exporter": "python",
   "pygments_lexer": "ipython3",
   "version": "3.13.3"
  }
 },
 "nbformat": 4,
 "nbformat_minor": 5
}
