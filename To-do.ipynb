{
 "cells": [
  {
   "cell_type": "markdown",
   "id": "27d539cb",
   "metadata": {},
   "source": [
    "# Reminders:"
   ]
  },
  {
   "cell_type": "markdown",
   "id": "07f3a65d",
   "metadata": {},
   "source": [
    "* Ask him about website template\n",
    "    - homepage, table, visual database\n",
    "    - update him on clickable points"
   ]
  },
  {
   "cell_type": "markdown",
   "id": "e450d39f",
   "metadata": {},
   "source": []
  }
 ],
 "metadata": {
  "kernelspec": {
   "display_name": "Python 3",
   "language": "python",
   "name": "python3"
  },
  "language_info": {
   "codemirror_mode": {
    "name": "ipython",
    "version": 3
   },
   "file_extension": ".py",
   "mimetype": "text/x-python",
   "name": "python",
   "nbconvert_exporter": "python",
   "pygments_lexer": "ipython3",
   "version": "3.13.3"
  }
 },
 "nbformat": 4,
 "nbformat_minor": 5
}
