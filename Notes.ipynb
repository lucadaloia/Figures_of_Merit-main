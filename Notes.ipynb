{
 "cells": [
  {
   "cell_type": "markdown",
   "id": "d7b68182",
   "metadata": {},
   "source": [
    "# my_main_app:"
   ]
  },
  {
   "cell_type": "markdown",
   "id": "a29475f1",
   "metadata": {},
   "source": [
    "## models.py"
   ]
  },
  {
   "cell_type": "markdown",
   "id": "163a7f4a",
   "metadata": {},
   "source": [
    "### Django Classes (models.Model)"
   ]
  },
  {
   "cell_type": "markdown",
   "id": "bb3c77a9",
   "metadata": {},
   "source": [
    "Every class in models.py that inherits from models.Model is considered a Django model and has a table created for it in the Django database.\n",
    "- models.Model is a parent class provided by Django whenever you import Django.db\n",
    "- It's the base class for all Django models\n",
    "- Since a table is created in the database for that class, all of its objects are stored and can easily be pulled from it in another file if we import that class"
   ]
  },
  {
   "cell_type": "code",
   "execution_count": null,
   "id": "31312cbf",
   "metadata": {},
   "outputs": [],
   "source": [
    "from .models import DeviceData # type: ignore\n",
    "# where DeviceData is the class created"
   ]
  },
  {
   "cell_type": "markdown",
   "id": "7ad6a252",
   "metadata": {},
   "source": [
    "When defining a subclass of models.Model, we need to specify configurations for the field of the table that will be created for that class.\n",
    "- Data types: \n",
    "    - CharField: Short text/string\n",
    "    - TextField: Long text\n",
    "    - ntegerField: Integer numbers\n",
    "    - FloatField: Decimal numbers\n",
    "    - BooleanField: True/False values\n",
    "    - DateField: Date (year, month, day)\n",
    "    - DateTimeField: Date and time\n",
    "    - TimeField: Time only\n",
    "    - EmailField: Email addresses\n",
    "    - URLField: URLs\n",
    "    - FileField: File uploads\n",
    "    - ImageField: Image uploads\n",
    "    - DecimalField: Fixed-precision decimal numbers\n",
    "    - AutoField: Auto-incrementing integer (usually for primary keys)\n",
    "    - ForeignKey: Link to another model (many-to-one)\n",
    "    - ManyToManyField: Many-to-many relationship\n",
    "    - OneToOneField: One-to-one relationship\n",
    "- Field Arguments/Options (most common):\n",
    "    - max_length: Maximum number of characters (required for CharField, EmailField, etc.)\n",
    "    - blank: If True, the field is allowed to be empty in forms.\n",
    "    - null: If True, the database will store NULL for empty values.\n",
    "    - default: Default value for the field.\n",
    "    - choices: A list of choices for the field value.\n",
    "    - unique: If True, no two rows can have the same value for this field.\n",
    "    - primary_key: If True, this field is the primary key for the model.\n",
    "    - db_index: If True, a database index is created for this field.\n",
    "    - verbose_name: Human-readable name for the field.\n",
    "    - help_text: Extra text to help users understand the field.\n",
    "    - editable: If False, the field will not be editable in the admin or forms.\n",
    "    - upload_to: For FileField/ImageField, the directory to upload files to.\n",
    "\n"
   ]
  },
  {
   "cell_type": "code",
   "execution_count": null,
   "id": "2fd1d05c",
   "metadata": {},
   "outputs": [],
   "source": [
    "class_variable = models.CharField(max_length=255, balnk=True, default='') # type: ignore"
   ]
  },
  {
   "cell_type": "markdown",
   "id": "8f128268",
   "metadata": {},
   "source": [
    "### upload_to:"
   ]
  },
  {
   "cell_type": "markdown",
   "id": "2ef05101",
   "metadata": {},
   "source": [
    "In the DeviceData subclass, the variable \"reference_file\" will be storing the file from where the data was pulled out from (or wichever file the user sets the variable to when declaring an object of that class) in the table."
   ]
  },
  {
   "cell_type": "code",
   "execution_count": null,
   "id": "0ccb6a63",
   "metadata": {},
   "outputs": [],
   "source": [
    "reference_file = models.FileField(upload_to='references/', blank=True, null=True) # type: ignore"
   ]
  },
  {
   "cell_type": "markdown",
   "id": "57010155",
   "metadata": {},
   "source": [
    "## views.py"
   ]
  },
  {
   "cell_type": "markdown",
   "id": "7ddc2b62",
   "metadata": {},
   "source": [
    "This file declares the different pages in the webapp.\n",
    "In \"home\" this webapp displays a plot using plotly.  Each object in the DeviceData subclass is added into the variable devices, then a loop goes through the list and appends each device into a trace list which is used as the data points for the plot."
   ]
  },
  {
   "cell_type": "markdown",
   "id": "24dc2fec",
   "metadata": {},
   "source": [
    "### plotly:"
   ]
  },
  {
   "cell_type": "markdown",
   "id": "fd935d0f",
   "metadata": {},
   "source": [
    "Important imports:"
   ]
  },
  {
   "cell_type": "code",
   "execution_count": null,
   "id": "b1633c6f",
   "metadata": {},
   "outputs": [],
   "source": [
    "import plotly.graph_objects as go # graph_objects is a module that contains different classes for the different plot types (scatter, bar...)\n",
    "from plotly.offline import plot # used to render HTML plot"
   ]
  },
  {
   "cell_type": "markdown",
   "id": "d63af537",
   "metadata": {},
   "source": [
    "To create the data traces, a list with the datapoints is needed. In this case, a loop was used to go through all devices and append each one "
   ]
  }
 ],
 "metadata": {
  "kernelspec": {
   "display_name": "Python 3",
   "language": "python",
   "name": "python3"
  },
  "language_info": {
   "name": "python",
   "version": "3.13.3"
  }
 },
 "nbformat": 4,
 "nbformat_minor": 5
}
